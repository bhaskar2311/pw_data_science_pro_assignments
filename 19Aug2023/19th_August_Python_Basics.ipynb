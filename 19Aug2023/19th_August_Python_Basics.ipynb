{
 "cells": [
  {
   "cell_type": "markdown",
   "id": "e36a5919-3f92-46a3-89cf-e43b9b598d87",
   "metadata": {},
   "source": [
    "TOPIC: Python Basics Variable"
   ]
  },
  {
   "cell_type": "raw",
   "id": "55655523-61d9-42fd-bcb3-aa3065021d97",
   "metadata": {},
   "source": [
    "1. Declare two variables, `x` and `y`, and assign them integer values. \n",
    "Swap the values of these variables without using any temporary variable."
   ]
  },
  {
   "cell_type": "code",
   "execution_count": 6,
   "id": "af425258-e37c-4258-8fa7-2e2fc611c38a",
   "metadata": {},
   "outputs": [
    {
     "name": "stdout",
     "output_type": "stream",
     "text": [
      "20\n",
      "10\n"
     ]
    }
   ],
   "source": [
    "X = 10\n",
    "Y = 20\n",
    "\n",
    "X = X + Y\n",
    "Y = X - Y\n",
    "X = X - Y\n",
    "\n",
    "print(X)\n",
    "print(Y)"
   ]
  },
  {
   "cell_type": "raw",
   "id": "028e9a53-4897-4b53-a2ef-246c52efef68",
   "metadata": {},
   "source": [
    "2. Create a program that calculates the area of a rectangle. Take the length and\n",
    "width as inputs from the user and store them in variables. Calculate and\n",
    "display the area."
   ]
  },
  {
   "cell_type": "code",
   "execution_count": 8,
   "id": "b80240c6-4479-45d3-abba-feea7ab5328b",
   "metadata": {},
   "outputs": [
    {
     "name": "stdin",
     "output_type": "stream",
     "text": [
      " 10\n",
      " 20\n"
     ]
    },
    {
     "name": "stdout",
     "output_type": "stream",
     "text": [
      "200\n"
     ]
    }
   ],
   "source": [
    "length = int(input())\n",
    "width = int(input())\n",
    "area = length * width\n",
    "print(area)"
   ]
  },
  {
   "cell_type": "raw",
   "id": "39f86e48-e736-488e-a9cf-a5688d359790",
   "metadata": {},
   "source": [
    "3. Write a Python program that converts temperatures from Celsius to\n",
    "Fahrenheit. Take the temperature in Celsius as input, store it in a variable,\n",
    "convert it to Fahrenheit, and display the result."
   ]
  },
  {
   "cell_type": "code",
   "execution_count": 9,
   "id": "7ddb72e5-af0f-43ed-9bba-91a7d5270d15",
   "metadata": {},
   "outputs": [
    {
     "name": "stdin",
     "output_type": "stream",
     "text": [
      " 100\n"
     ]
    },
    {
     "name": "stdout",
     "output_type": "stream",
     "text": [
      "212.0\n"
     ]
    }
   ],
   "source": [
    "celcius = float(input())\n",
    "fahrenheit = celcius * 1.8 + 32\n",
    "print(fahrenheit)"
   ]
  },
  {
   "cell_type": "markdown",
   "id": "98262527-f24c-4b21-96df-048834b1fefa",
   "metadata": {},
   "source": []
  },
  {
   "cell_type": "markdown",
   "id": "eb7eaed0-ec89-43e8-abe6-79116d0457f2",
   "metadata": {},
   "source": [
    "TOPIC: String Based Questions"
   ]
  },
  {
   "cell_type": "raw",
   "id": "5f464394-4eb0-41fa-bd8e-f366889e85f9",
   "metadata": {},
   "source": [
    "1. Write a Python program that takes a string as input and prints the length of\n",
    "the string."
   ]
  },
  {
   "cell_type": "code",
   "execution_count": 1,
   "id": "bb86480d-91c2-41df-9417-7d79b5c6894d",
   "metadata": {},
   "outputs": [
    {
     "name": "stdin",
     "output_type": "stream",
     "text": [
      " Bhaskar\n"
     ]
    },
    {
     "name": "stdout",
     "output_type": "stream",
     "text": [
      "7\n"
     ]
    }
   ],
   "source": [
    "s = input()\n",
    "print(len(s))"
   ]
  },
  {
   "cell_type": "raw",
   "id": "1a920b45-0f81-42d8-953d-06ee888ed78d",
   "metadata": {},
   "source": [
    "2. Create a program that takes a sentence from the user and counts the number\n",
    "of vowels (a, e, i, o, u) in the string."
   ]
  },
  {
   "cell_type": "code",
   "execution_count": 6,
   "id": "2d391c1d-98b4-43f1-96d0-0e1ee51149ee",
   "metadata": {},
   "outputs": [
    {
     "name": "stdin",
     "output_type": "stream",
     "text": [
      " aeiouAEIOU BSK\n"
     ]
    },
    {
     "name": "stdout",
     "output_type": "stream",
     "text": [
      "10\n"
     ]
    }
   ],
   "source": [
    "s = input()\n",
    "vow = ['a','e','i','o','u','A','E','I','O','U']\n",
    "vowel = 0\n",
    "for char in s:\n",
    "    if char in vow:\n",
    "        vowel = vowel + 1\n",
    "print(vowel)       "
   ]
  },
  {
   "cell_type": "raw",
   "id": "e81b9f49-c4d9-4937-af81-3616f1f85b13",
   "metadata": {},
   "source": [
    "3. Given a string, reverse the order of characters using string slicing and print\n",
    "the reversed string."
   ]
  },
  {
   "cell_type": "code",
   "execution_count": 17,
   "id": "d0b5bcbc-d821-47b6-8451-d876f25d5711",
   "metadata": {},
   "outputs": [
    {
     "name": "stdin",
     "output_type": "stream",
     "text": [
      " abc\n"
     ]
    },
    {
     "name": "stdout",
     "output_type": "stream",
     "text": [
      "cba\n"
     ]
    }
   ],
   "source": [
    "s = input()\n",
    "print(s[::-1])"
   ]
  },
  {
   "cell_type": "raw",
   "id": "259b3052-2d86-4d69-adf6-05d565099fd0",
   "metadata": {},
   "source": [
    "4. Write a program that takes a string as input and checks if it is a palindrome\n",
    "(reads the same forwards and backwards)."
   ]
  },
  {
   "cell_type": "code",
   "execution_count": 21,
   "id": "c77e99d3-2a5f-4405-beac-7b0341b4cfaa",
   "metadata": {},
   "outputs": [
    {
     "name": "stdin",
     "output_type": "stream",
     "text": [
      " madam\n"
     ]
    },
    {
     "name": "stdout",
     "output_type": "stream",
     "text": [
      "Palindrome\n"
     ]
    }
   ],
   "source": [
    "s = input()\n",
    "if(s==s[::-1]):\n",
    "    print(\"Palindrome\")\n",
    "else:\n",
    "    print(\"Not Palindrome\")"
   ]
  },
  {
   "cell_type": "raw",
   "id": "41190615-5847-443c-bc03-bc30d15a9ac7",
   "metadata": {},
   "source": [
    "5. Create a program that takes a string as input and removes all the spaces from\n",
    "it. Print the modified string without spaces."
   ]
  },
  {
   "cell_type": "code",
   "execution_count": 22,
   "id": "b9d5318a-6831-40f8-8cba-6d940903dd9e",
   "metadata": {},
   "outputs": [
    {
     "name": "stdin",
     "output_type": "stream",
     "text": [
      " bhaskar is my name\n"
     ]
    },
    {
     "name": "stdout",
     "output_type": "stream",
     "text": [
      "bhaskarismyname\n"
     ]
    }
   ],
   "source": [
    "s = input()\n",
    "modified = s.replace(\" \",\"\")\n",
    "print(modified)"
   ]
  }
 ],
 "metadata": {
  "kernelspec": {
   "display_name": "Python 3 (ipykernel)",
   "language": "python",
   "name": "python3"
  },
  "language_info": {
   "codemirror_mode": {
    "name": "ipython",
    "version": 3
   },
   "file_extension": ".py",
   "mimetype": "text/x-python",
   "name": "python",
   "nbconvert_exporter": "python",
   "pygments_lexer": "ipython3",
   "version": "3.10.8"
  }
 },
 "nbformat": 4,
 "nbformat_minor": 5
}
